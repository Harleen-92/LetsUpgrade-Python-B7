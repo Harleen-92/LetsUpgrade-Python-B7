{
 "cells": [
  {
   "cell_type": "markdown",
   "metadata": {},
   "source": [
    "## Question1:\n",
    "List and its default functions"
   ]
  },
  {
   "cell_type": "code",
   "execution_count": 8,
   "metadata": {},
   "outputs": [],
   "source": [
    "list1 = [\"I\", \"am\", \"Harleen Kaur\", \"born\", \"in\", \"1992\"]\n",
    "list2 = [\"I\", \"am\", \"working\", \"professional\"]"
   ]
  },
  {
   "cell_type": "code",
   "execution_count": 3,
   "metadata": {},
   "outputs": [
    {
     "data": {
      "text/plain": [
       "6"
      ]
     },
     "execution_count": 3,
     "metadata": {},
     "output_type": "execute_result"
    }
   ],
   "source": [
    "# Function 1: length of a list\n",
    "\n",
    "len(list1)"
   ]
  },
  {
   "cell_type": "code",
   "execution_count": 7,
   "metadata": {},
   "outputs": [
    {
     "data": {
      "text/plain": [
       "['I', 'am', 'working', 'professional']"
      ]
     },
     "execution_count": 7,
     "metadata": {},
     "output_type": "execute_result"
    }
   ],
   "source": [
    "# Function 2: maximum list among list1 and list2\n",
    "\n",
    "max(list1, list2)"
   ]
  },
  {
   "cell_type": "code",
   "execution_count": 14,
   "metadata": {},
   "outputs": [
    {
     "data": {
      "text/plain": [
       "['I', 'am', 'Harleen Kaur', 'born', 'in', '1992']"
      ]
     },
     "execution_count": 14,
     "metadata": {},
     "output_type": "execute_result"
    }
   ],
   "source": [
    "# Function 2: minimum list among list1 and list2\n",
    "\n",
    "min(list1, list2)"
   ]
  },
  {
   "cell_type": "code",
   "execution_count": 13,
   "metadata": {},
   "outputs": [
    {
     "name": "stdout",
     "output_type": "stream",
     "text": [
      "Original tuple:  (1, 3, 5, 7)\n",
      "Tuple converted into list:  [1, 3, 5, 7]\n"
     ]
    }
   ],
   "source": [
    "# function 4: Conversion of tuple into list\n",
    "\n",
    "list3 = (1,3,5,7)\n",
    "print(\"Original tuple: \", list3)\n",
    "\n",
    "res = list(list3)\n",
    "print(\"Tuple converted into list: \", res)"
   ]
  },
  {
   "cell_type": "code",
   "execution_count": 18,
   "metadata": {},
   "outputs": [
    {
     "name": "stdout",
     "output_type": "stream",
     "text": [
      "Ascending order list:  ['1992', 'Harleen Kaur', 'I', 'am', 'born', 'in']\n",
      "Descending order list:  ['working', 'professional', 'am', 'I']\n"
     ]
    }
   ],
   "source": [
    "# Function 5: Sort the list in ascending and descending order\n",
    "\n",
    "list1.sort()\n",
    "print(\"Ascending order list: \",list1)\n",
    "\n",
    "list2.sort(reverse = True)\n",
    "print(\"Descending order list: \",list2)"
   ]
  },
  {
   "cell_type": "markdown",
   "metadata": {},
   "source": [
    "## Question 2\n",
    "Dictionary and its default functions"
   ]
  },
  {
   "cell_type": "code",
   "execution_count": 33,
   "metadata": {},
   "outputs": [
    {
     "data": {
      "text/plain": [
       "{'a': 10, 'b': 20, 'c': 30, 'd': 40, 'e': 50}"
      ]
     },
     "execution_count": 33,
     "metadata": {},
     "output_type": "execute_result"
    }
   ],
   "source": [
    "dict1 = {'a': 10, 'b': 20, 'c': 30, 'd': 40, 'e': 50}\n",
    "dict1"
   ]
  },
  {
   "cell_type": "code",
   "execution_count": 21,
   "metadata": {},
   "outputs": [
    {
     "data": {
      "text/plain": [
       "['a', 'b', 'c', 'd', 'e']"
      ]
     },
     "execution_count": 21,
     "metadata": {},
     "output_type": "execute_result"
    }
   ],
   "source": [
    "# Function1: Return list of keys in a dictionary\n",
    "\n",
    "list(dict1.keys())"
   ]
  },
  {
   "cell_type": "code",
   "execution_count": 34,
   "metadata": {},
   "outputs": [
    {
     "data": {
      "text/plain": [
       "{'a': 10, 'c': 30, 'd': 40, 'e': 50}"
      ]
     },
     "execution_count": 34,
     "metadata": {},
     "output_type": "execute_result"
    }
   ],
   "source": [
    "# Function 2: Removes the key from dictionary\n",
    "\n",
    "dict1.pop('b')\n",
    "dict1"
   ]
  },
  {
   "cell_type": "code",
   "execution_count": 35,
   "metadata": {},
   "outputs": [
    {
     "data": {
      "text/plain": [
       "{'a': 100, 'c': 30, 'd': 40, 'e': 50, 'f': 200}"
      ]
     },
     "execution_count": 35,
     "metadata": {},
     "output_type": "execute_result"
    }
   ],
   "source": [
    "# Function 3: Merges a dictionary with another dictionary or with an iterable of key-value pairs\n",
    "\n",
    "dict2 = {'a': 100, 'f': 200}\n",
    "dict1.update(dict2)\n",
    "dict1"
   ]
  },
  {
   "cell_type": "code",
   "execution_count": 36,
   "metadata": {},
   "outputs": [
    {
     "data": {
      "text/plain": [
       "[100, 30, 40, 50, 200]"
      ]
     },
     "execution_count": 36,
     "metadata": {},
     "output_type": "execute_result"
    }
   ],
   "source": [
    "# Function 4: Return list of values in a dictionary\n",
    "\n",
    "list(dict1.values())"
   ]
  },
  {
   "cell_type": "code",
   "execution_count": 37,
   "metadata": {},
   "outputs": [
    {
     "data": {
      "text/plain": [
       "('f', 200)"
      ]
     },
     "execution_count": 37,
     "metadata": {},
     "output_type": "execute_result"
    }
   ],
   "source": [
    "# Function 5: Return the last inserted key value pair in a dictionary\n",
    "\n",
    "dict1.popitem()"
   ]
  },
  {
   "cell_type": "markdown",
   "metadata": {},
   "source": [
    "## Question 3\n",
    "Sets and its default functions"
   ]
  },
  {
   "cell_type": "code",
   "execution_count": 47,
   "metadata": {},
   "outputs": [],
   "source": [
    "set1 = {\"Delhi\", \"Mumbai\", \"Chennai\", \"001\", \"002\"}\n",
    "set2 = {\"Kolkata\", \"Bengaluru\", \"Delhi\"}"
   ]
  },
  {
   "cell_type": "code",
   "execution_count": 43,
   "metadata": {},
   "outputs": [
    {
     "data": {
      "text/plain": [
       "{'001', '002', '003', 'Chennai', 'Delhi', 'Mumbai'}"
      ]
     },
     "execution_count": 43,
     "metadata": {},
     "output_type": "execute_result"
    }
   ],
   "source": [
    "# Function 1: Add element to the set\n",
    "\n",
    "set1.add('003')\n",
    "set1"
   ]
  },
  {
   "cell_type": "code",
   "execution_count": 46,
   "metadata": {},
   "outputs": [
    {
     "data": {
      "text/plain": [
       "{'001', '002', 'Chennai', 'Mumbai'}"
      ]
     },
     "execution_count": 46,
     "metadata": {},
     "output_type": "execute_result"
    }
   ],
   "source": [
    "# Function 2: Remove the item that exist in both the sets\n",
    "\n",
    "set1.difference_update(set2)\n",
    "set1"
   ]
  },
  {
   "cell_type": "code",
   "execution_count": 48,
   "metadata": {},
   "outputs": [
    {
     "name": "stdout",
     "output_type": "stream",
     "text": [
      "False\n"
     ]
    }
   ],
   "source": [
    "# Function 3: Return True if no item in set1 is present in set2 else returns False\n",
    "\n",
    "st = set1.isdisjoint(set2)\n",
    "print(st)"
   ]
  },
  {
   "cell_type": "code",
   "execution_count": 49,
   "metadata": {},
   "outputs": [
    {
     "data": {
      "text/plain": [
       "'Mumbai'"
      ]
     },
     "execution_count": 49,
     "metadata": {},
     "output_type": "execute_result"
    }
   ],
   "source": [
    "# Function 4: Removes element from the set \n",
    "\n",
    "set1.pop()"
   ]
  },
  {
   "cell_type": "code",
   "execution_count": 50,
   "metadata": {},
   "outputs": [
    {
     "data": {
      "text/plain": [
       "{'001', '002', 'Bengaluru', 'Chennai', 'Delhi', 'Kolkata'}"
      ]
     },
     "execution_count": 50,
     "metadata": {},
     "output_type": "execute_result"
    }
   ],
   "source": [
    "# Function 5: update set1 with union of set2 \n",
    "\n",
    "set1.update(set2)\n",
    "set1"
   ]
  },
  {
   "cell_type": "markdown",
   "metadata": {},
   "source": [
    "## Question 4\n",
    "Tuple and explore default methods"
   ]
  },
  {
   "cell_type": "code",
   "execution_count": 53,
   "metadata": {},
   "outputs": [
    {
     "data": {
      "text/plain": [
       "(100, 300, 700, 800, 700, 500, 400, 600, 800, 500)"
      ]
     },
     "execution_count": 53,
     "metadata": {},
     "output_type": "execute_result"
    }
   ],
   "source": [
    "tuple1 = (100, 300, 700, 800, 700, 500, 400, 600, 800, 500)\n",
    "tuple1"
   ]
  },
  {
   "cell_type": "code",
   "execution_count": 54,
   "metadata": {},
   "outputs": [
    {
     "name": "stdout",
     "output_type": "stream",
     "text": [
      "2\n"
     ]
    }
   ],
   "source": [
    "# Function 1: Count the no. of times item occurs in a tuple\n",
    "\n",
    "res = tuple1.count(700)\n",
    "print(res)"
   ]
  },
  {
   "cell_type": "code",
   "execution_count": 56,
   "metadata": {},
   "outputs": [
    {
     "name": "stdout",
     "output_type": "stream",
     "text": [
      "5\n"
     ]
    }
   ],
   "source": [
    "# Function 2: Search for the first occurrence of the value, and return its position\n",
    "\n",
    "res = tuple1.index(500)\n",
    "print(res)"
   ]
  },
  {
   "cell_type": "markdown",
   "metadata": {},
   "source": [
    "## Question 5\n",
    "String and explore default methods"
   ]
  },
  {
   "cell_type": "code",
   "execution_count": 59,
   "metadata": {},
   "outputs": [],
   "source": [
    "string = \"harleen kaur\""
   ]
  },
  {
   "cell_type": "code",
   "execution_count": 60,
   "metadata": {},
   "outputs": [
    {
     "name": "stdout",
     "output_type": "stream",
     "text": [
      "Original string:  harleen kaur\n",
      "Capitalized String:  Harleen kaur\n"
     ]
    }
   ],
   "source": [
    "# Function 1: Capitalize first letter of the string and all other letters lowercased \n",
    "\n",
    "str1 = string.capitalize()\n",
    "print(\"Original string: \", string)\n",
    "print(\"Capitalized String: \",str1)"
   ]
  },
  {
   "cell_type": "code",
   "execution_count": 62,
   "metadata": {},
   "outputs": [
    {
     "name": "stdout",
     "output_type": "stream",
     "text": [
      "Original string:  harleen kaur\n",
      "The count of substring is:  1\n"
     ]
    }
   ],
   "source": [
    "# Function 2: Count the occurrence of a substring\n",
    "\n",
    "str2 = string.count(\"leen\")\n",
    "\n",
    "print(\"Original string: \", string)\n",
    "print(\"The count of substring is: \", str2)"
   ]
  },
  {
   "cell_type": "code",
   "execution_count": 63,
   "metadata": {},
   "outputs": [
    {
     "name": "stdout",
     "output_type": "stream",
     "text": [
      "Original string:  harleen kaur\n",
      "False\n"
     ]
    }
   ],
   "source": [
    "# Function 3: Returns true if the string ends with specified character\n",
    "\n",
    "str3 = string.endswith(\".\")\n",
    "print(\"Original string: \", string)\n",
    "print(str3)"
   ]
  },
  {
   "cell_type": "code",
   "execution_count": 64,
   "metadata": {},
   "outputs": [
    {
     "name": "stdout",
     "output_type": "stream",
     "text": [
      "Original string:  harleen kaur\n",
      "Formatted string:  Welcome! Harleen Kaur\n"
     ]
    }
   ],
   "source": [
    "# Function 4: Formats the specified value(s) and insert them inside the string's placeholder\n",
    "\n",
    "str4 = \"{0} Harleen Kaur\".format(\"Welcome!\")\n",
    "print(\"Original string: \", string)\n",
    "print(\"Formatted string: \", str4)"
   ]
  },
  {
   "cell_type": "code",
   "execution_count": 65,
   "metadata": {},
   "outputs": [
    {
     "name": "stdout",
     "output_type": "stream",
     "text": [
      "Original string:  harleen kaur\n",
      "Formatted string:  ['harleen', 'kaur']\n"
     ]
    }
   ],
   "source": [
    "# Function 5: Splits the string at the specified separator, and returns a list. Default separator is any white space\n",
    "\n",
    "str5 = string.split()\n",
    "print(\"Original string: \", string)\n",
    "print(\"Formatted string: \",str5)"
   ]
  },
  {
   "cell_type": "code",
   "execution_count": null,
   "metadata": {},
   "outputs": [],
   "source": []
  }
 ],
 "metadata": {
  "kernelspec": {
   "display_name": "Python 3",
   "language": "python",
   "name": "python3"
  },
  "language_info": {
   "codemirror_mode": {
    "name": "ipython",
    "version": 3
   },
   "file_extension": ".py",
   "mimetype": "text/x-python",
   "name": "python",
   "nbconvert_exporter": "python",
   "pygments_lexer": "ipython3",
   "version": "3.8.3"
  }
 },
 "nbformat": 4,
 "nbformat_minor": 4
}
