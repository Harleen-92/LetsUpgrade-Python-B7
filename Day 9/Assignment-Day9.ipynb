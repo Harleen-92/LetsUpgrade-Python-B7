{
 "cells": [
  {
   "cell_type": "markdown",
   "metadata": {},
   "source": [
    "# Assignment no. 1 - Unit Testing"
   ]
  },
  {
   "cell_type": "code",
   "execution_count": 1,
   "metadata": {},
   "outputs": [
    {
     "name": "stdout",
     "output_type": "stream",
     "text": [
      "Requirement already satisfied: pylint in /Users/mypc/opt/anaconda3/lib/python3.8/site-packages (2.5.3)\n",
      "Requirement already satisfied: mccabe<0.7,>=0.6 in /Users/mypc/opt/anaconda3/lib/python3.8/site-packages (from pylint) (0.6.1)\n",
      "Requirement already satisfied: isort<5,>=4.2.5 in /Users/mypc/opt/anaconda3/lib/python3.8/site-packages (from pylint) (4.3.21)\n",
      "Requirement already satisfied: toml>=0.7.1 in /Users/mypc/opt/anaconda3/lib/python3.8/site-packages (from pylint) (0.10.1)\n",
      "Requirement already satisfied: astroid<=2.5,>=2.4.0 in /Users/mypc/opt/anaconda3/lib/python3.8/site-packages (from pylint) (2.4.2)\n",
      "Requirement already satisfied: wrapt~=1.11 in /Users/mypc/opt/anaconda3/lib/python3.8/site-packages (from astroid<=2.5,>=2.4.0->pylint) (1.11.2)\n",
      "Requirement already satisfied: six~=1.12 in /Users/mypc/opt/anaconda3/lib/python3.8/site-packages (from astroid<=2.5,>=2.4.0->pylint) (1.15.0)\n",
      "Requirement already satisfied: lazy-object-proxy==1.4.* in /Users/mypc/opt/anaconda3/lib/python3.8/site-packages (from astroid<=2.5,>=2.4.0->pylint) (1.4.3)\n"
     ]
    }
   ],
   "source": [
    "! pip install pylint"
   ]
  },
  {
   "cell_type": "code",
   "execution_count": 4,
   "metadata": {},
   "outputs": [
    {
     "name": "stdout",
     "output_type": "stream",
     "text": [
      "Overwriting test_prime.py\n"
     ]
    }
   ],
   "source": [
    "%%writefile test_prime.py\n",
    "\n",
    "\"\"\"Let the prime list be empty at first.\"\"\"\n",
    "primes = []\n",
    "\n",
    "for possiblePrime in range(2, 100):\n",
    "    ISPRIME = True\n",
    "    for num in range(2, possiblePrime):\n",
    "        if possiblePrime % num == 0:\n",
    "            ISPRIME = False\n",
    "    if ISPRIME:\n",
    "        primes.append(possiblePrime)\n",
    "\n",
    "print(primes)"
   ]
  },
  {
   "cell_type": "code",
   "execution_count": 5,
   "metadata": {},
   "outputs": [
    {
     "name": "stdout",
     "output_type": "stream",
     "text": [
      "\r\n",
      "-------------------------------------------------------------------\r\n",
      "Your code has been rated at 10.00/10 (previous run: 8.89/10, +1.11)\r\n",
      "\r\n"
     ]
    }
   ],
   "source": [
    "! pylint \"test_prime.py\""
   ]
  },
  {
   "cell_type": "code",
   "execution_count": 8,
   "metadata": {},
   "outputs": [
    {
     "name": "stdout",
     "output_type": "stream",
     "text": [
      "Writing we_test_prime.py\n"
     ]
    }
   ],
   "source": [
    "%%writefile we_test_prime.py\n",
    "\n",
    "\"\"\"This function tests whether a number is prime or not.\"\"\"\n",
    "def is_prime(number):\n",
    "    \"\"\"Return True if number is prime.\"\"\"\n",
    "    for i in range(2, number):\n",
    "        if number % i == 0:\n",
    "            return False\n",
    "\n",
    "    return True"
   ]
  },
  {
   "cell_type": "code",
   "execution_count": 9,
   "metadata": {},
   "outputs": [
    {
     "name": "stdout",
     "output_type": "stream",
     "text": [
      "\r\n",
      "------------------------------------\r\n",
      "Your code has been rated at 10.00/10\r\n",
      "\r\n"
     ]
    }
   ],
   "source": [
    "! pylint \"we_test_prime.py\""
   ]
  },
  {
   "cell_type": "code",
   "execution_count": 10,
   "metadata": {},
   "outputs": [
    {
     "name": "stdout",
     "output_type": "stream",
     "text": [
      "Overwriting final_test_prime.py\n"
     ]
    }
   ],
   "source": [
    "%%writefile final_test_prime.py\n",
    "\n",
    "\"\"\"This is final test whether a number is prime or not.\"\"\"\n",
    "import unittest\n",
    "from we_test_prime import is_prime \n",
    "\n",
    "class PrimesTestCase(unittest.TestCase):\n",
    "    \"\"\"Tests for `primes.py`.\"\"\"\n",
    "\n",
    "    def test_is_five_prime(self):\n",
    "        \"\"\"Is five successfully determined to be prime?\"\"\"\n",
    "        self.assertTrue(is_prime(5))\n",
    "\n",
    "if __name__ == '__main__':\n",
    "    unittest.main()"
   ]
  },
  {
   "cell_type": "code",
   "execution_count": 11,
   "metadata": {},
   "outputs": [
    {
     "name": "stdout",
     "output_type": "stream",
     "text": [
      ".\r\n",
      "----------------------------------------------------------------------\r\n",
      "Ran 1 test in 0.000s\r\n",
      "\r\n",
      "OK\r\n"
     ]
    }
   ],
   "source": [
    "! python final_test_prime.py"
   ]
  },
  {
   "cell_type": "markdown",
   "metadata": {},
   "source": [
    "## Question 2\n",
    "Generator Program for Armstrong number"
   ]
  },
  {
   "cell_type": "code",
   "execution_count": 16,
   "metadata": {},
   "outputs": [],
   "source": [
    "def getclose_to_armnum_Gen(list):\n",
    "    \n",
    "    for num in range(1, 100):\n",
    "        sum = 0  \n",
    "        temp = num  \n",
    "        while temp > 0:\n",
    "                digit = temp % 10  \n",
    "                sum += digit ** 3  \n",
    "                temp //= 10\n",
    "                if num == sum:\n",
    "                    yield num\n",
    "                else:\n",
    "                    yield num + 1"
   ]
  },
  {
   "cell_type": "code",
   "execution_count": 17,
   "metadata": {},
   "outputs": [
    {
     "data": {
      "text/plain": [
       "<generator object getclose_to_armnum_Gen at 0x7fd6f3c08dd0>"
      ]
     },
     "execution_count": 17,
     "metadata": {},
     "output_type": "execute_result"
    }
   ],
   "source": [
    "getclose_to_armnum_Gen(list)"
   ]
  },
  {
   "cell_type": "code",
   "execution_count": 18,
   "metadata": {},
   "outputs": [
    {
     "name": "stdout",
     "output_type": "stream",
     "text": [
      "[1, 3, 4, 5, 6, 7, 8, 9, 10, 11, 11, 12, 12, 13, 13, 14, 14, 15, 15, 16, 16, 17, 17, 18, 18, 19, 19, 20, 20, 21, 21, 22, 22, 23, 23, 24, 24, 25, 25, 26, 26, 27, 27, 28, 28, 29, 29, 30, 30, 31, 31, 32, 32, 33, 33, 34, 34, 35, 35, 36, 36, 37, 37, 38, 38, 39, 39, 40, 40, 41, 41, 42, 42, 43, 43, 44, 44, 45, 45, 46, 46, 47, 47, 48, 48, 49, 49, 50, 50, 51, 51, 52, 52, 53, 53, 54, 54, 55, 55, 56, 56, 57, 57, 58, 58, 59, 59, 60, 60, 61, 61, 62, 62, 63, 63, 64, 64, 64, 65, 66, 66, 67, 67, 68, 68, 69, 69, 70, 70, 71, 71, 72, 72, 73, 73, 74, 74, 75, 75, 76, 76, 77, 77, 78, 78, 79, 79, 80, 80, 81, 81, 82, 82, 83, 83, 84, 84, 85, 85, 86, 86, 87, 87, 88, 88, 89, 89, 90, 90, 91, 91, 92, 92, 93, 93, 94, 94, 95, 95, 96, 96, 97, 97, 98, 98, 99, 99, 100, 100]\n"
     ]
    }
   ],
   "source": [
    "print(list(getclose_to_armnum_Gen(list)))"
   ]
  },
  {
   "cell_type": "code",
   "execution_count": null,
   "metadata": {},
   "outputs": [],
   "source": []
  }
 ],
 "metadata": {
  "kernelspec": {
   "display_name": "Python 3",
   "language": "python",
   "name": "python3"
  },
  "language_info": {
   "codemirror_mode": {
    "name": "ipython",
    "version": 3
   },
   "file_extension": ".py",
   "mimetype": "text/x-python",
   "name": "python",
   "nbconvert_exporter": "python",
   "pygments_lexer": "ipython3",
   "version": "3.8.3"
  }
 },
 "nbformat": 4,
 "nbformat_minor": 4
}
